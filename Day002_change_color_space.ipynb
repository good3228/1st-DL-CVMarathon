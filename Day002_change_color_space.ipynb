{
 "cells": [
  {
   "cell_type": "markdown",
   "metadata": {},
   "source": [
    "# 作業\n",
    "\n",
    "使用 [Lena](http://optipng.sourceforge.net/pngtech/img/lena.png)\n",
    "\n",
    "- 改變圖片的 color space (`HLS`, `LAB`) 並呈現"
   ]
  },
  {
   "cell_type": "code",
   "execution_count": 4,
   "metadata": {},
   "outputs": [],
   "source": [
    "import cv2\n",
    "lena=cv2.imread('C://Users//user//Documents//DL//lena.png')\n",
    "lena_LAB=cv2.cvtColor(lena,cv2.COLOR_BGR2LAB)\n",
    "lena_HLS=cv2.cvtColor(lena,cv2.COLOR_BGR2HLS)\n",
    "\n",
    "while True:\n",
    "    \n",
    "    cv2.imshow(\"lab\",lena_LAB)\n",
    "    cv2.imshow(\"HLV\",lena_HLS)\n",
    "    k=cv2.waitKey(0)\n",
    "    if k==27:\n",
    "        cv2.destroyAllWindows()\n",
    "        break"
   ]
  }
 ],
 "metadata": {
  "kernelspec": {
   "display_name": "Python 3",
   "language": "python",
   "name": "python3"
  },
  "language_info": {
   "codemirror_mode": {
    "name": "ipython",
    "version": 3
   },
   "file_extension": ".py",
   "mimetype": "text/x-python",
   "name": "python",
   "nbconvert_exporter": "python",
   "pygments_lexer": "ipython3",
   "version": "3.7.3"
  }
 },
 "nbformat": 4,
 "nbformat_minor": 2
}
